{
 "cells": [
  {
   "cell_type": "markdown",
   "id": "b3ad776e",
   "metadata": {},
   "source": [
    "# TensorFlow 2.5 tutorial with MNIST dataset\n",
    "\n",
    "You can find the tutorial on TensorFlow website [here](https://www.tensorflow.org/tutorials/quickstart/beginner?hl=en).\n",
    "\n",
    "I haven't be using TF sinc the version 2.x release, so I restart from scratch to avoid re-using previous knowledge from TF 1.x."
   ]
  },
  {
   "cell_type": "code",
   "execution_count": 29,
   "id": "60fac1b4",
   "metadata": {},
   "outputs": [],
   "source": [
    "import tensorflow as tf\n",
    "import matplotlib.pyplot as plt\n",
    "import matplotlib.gridspec as gridspec\n",
    "import pandas as pd\n",
    "import numpy as np"
   ]
  },
  {
   "cell_type": "markdown",
   "id": "186a77de",
   "metadata": {},
   "source": [
    "We now load the [MNIST](http://yann.lecun.com/exdb/mnist/) dataset:"
   ]
  },
  {
   "cell_type": "code",
   "execution_count": 2,
   "id": "e08df573",
   "metadata": {},
   "outputs": [],
   "source": [
    "mnist = tf.keras.datasets.mnist"
   ]
  },
  {
   "cell_type": "code",
   "execution_count": 3,
   "id": "a5424d80",
   "metadata": {},
   "outputs": [],
   "source": [
    "(x_train, y_train), (x_test, y_test) = mnist.load_data(path=\"/files/cedric/datasets/tensorflow/mnist.npz\")"
   ]
  },
  {
   "cell_type": "markdown",
   "id": "cb067162",
   "metadata": {},
   "source": [
    "The training dataset contains 60000 gray-scale 28x28 images of hand-written digits. The testing dataset contains 10000 images:"
   ]
  },
  {
   "cell_type": "code",
   "execution_count": 4,
   "id": "248bae50",
   "metadata": {},
   "outputs": [
    {
     "data": {
      "text/plain": [
       "((60000, 28, 28), (10000, 28, 28))"
      ]
     },
     "execution_count": 4,
     "metadata": {},
     "output_type": "execute_result"
    }
   ],
   "source": [
    "x_train.shape, x_test.shape"
   ]
  },
  {
   "cell_type": "markdown",
   "id": "8c5d18d1",
   "metadata": {},
   "source": [
    "We can visualize each digit with matplotlib:"
   ]
  },
  {
   "cell_type": "code",
   "execution_count": 5,
   "id": "97d70fe0",
   "metadata": {},
   "outputs": [
    {
     "data": {
      "image/png": "[encoded data removed]",
      "text/plain": [
       "<Figure size 432x288 with 1 Axes>"
      ]
     },
     "metadata": {
      "needs_background": "light"
     },
     "output_type": "display_data"
    }
   ],
   "source": [
    "plt.imshow(x_train[7], cmap=\"gray\");"
   ]
  },
  {
   "cell_type": "markdown",
   "id": "1226aea6",
   "metadata": {},
   "source": [
    "There are 10 different classes in the dataset (one for each digit):"
   ]
  },
  {
   "cell_type": "code",
   "execution_count": 6,
   "id": "22c3dea1",
   "metadata": {},
   "outputs": [
    {
     "data": {
      "text/plain": [
       "1    6742\n",
       "7    6265\n",
       "3    6131\n",
       "2    5958\n",
       "9    5949\n",
       "0    5923\n",
       "6    5918\n",
       "8    5851\n",
       "4    5842\n",
       "5    5421\n",
       "dtype: int64"
      ]
     },
     "execution_count": 6,
     "metadata": {},
     "output_type": "execute_result"
    }
   ],
   "source": [
    "pd.Series(y_train).value_counts()"
   ]
  },
  {
   "cell_type": "markdown",
   "id": "964e71bd",
   "metadata": {},
   "source": [
    "Each array is provided with values ranging from 0 to 255, so we first want to scale the data between 0 and 1:"
   ]
  },
  {
   "cell_type": "code",
   "execution_count": 7,
   "id": "7c2a2a60",
   "metadata": {},
   "outputs": [
    {
     "data": {
      "text/plain": [
       "255"
      ]
     },
     "execution_count": 7,
     "metadata": {},
     "output_type": "execute_result"
    }
   ],
   "source": [
    "x_train.max()"
   ]
  },
  {
   "cell_type": "code",
   "execution_count": 8,
   "id": "890ba837",
   "metadata": {},
   "outputs": [],
   "source": [
    "x_train = x_train / 255.\n",
    "x_test = x_test / 255."
   ]
  },
  {
   "cell_type": "markdown",
   "id": "37ccec28",
   "metadata": {},
   "source": [
    "We can now build a simple model:\n",
    "\n",
    "- first we flatten the input images into a 784 long vector\n",
    "- then we add a fully connected layer with 128 neurons with a ReLU activation function\n",
    "- we use a dropout with a probability of 20% to avoid overfitting\n",
    "- finally we have 10 output neurons (one for each class)"
   ]
  },
  {
   "cell_type": "code",
   "execution_count": 9,
   "id": "af4be849",
   "metadata": {},
   "outputs": [
    {
     "name": "stderr",
     "output_type": "stream",
     "text": [
      "2021-09-12 11:25:58.491381: I tensorflow/core/platform/cpu_feature_guard.cc:142] This TensorFlow binary is optimized with oneAPI Deep Neural Network Library (oneDNN) to use the following CPU instructions in performance-critical operations:  SSE4.1 SSE4.2 AVX AVX2 FMA\n",
      "To enable them in other operations, rebuild TensorFlow with the appropriate compiler flags.\n"
     ]
    }
   ],
   "source": [
    "model = tf.keras.models.Sequential([\n",
    "  tf.keras.layers.Flatten(input_shape=(28, 28)),\n",
    "  tf.keras.layers.Dense(128, activation='relu'),\n",
    "  tf.keras.layers.Dropout(0.2),\n",
    "  tf.keras.layers.Dense(10)\n",
    "])"
   ]
  },
  {
   "cell_type": "markdown",
   "id": "dc8ca741",
   "metadata": {},
   "source": [
    "If we run the model with a given input we get the logit scores for each class:"
   ]
  },
  {
   "cell_type": "code",
   "execution_count": 10,
   "id": "a757621b",
   "metadata": {},
   "outputs": [
    {
     "data": {
      "text/plain": [
       "array([[-0.18357086,  0.751819  , -0.15296906,  0.3163001 ,  0.05188823,\n",
       "        -0.00710952,  0.22708812, -0.34851134, -0.28442356,  0.13784662]],\n",
       "      dtype=float32)"
      ]
     },
     "execution_count": 10,
     "metadata": {},
     "output_type": "execute_result"
    }
   ],
   "source": [
    "model(x_train[:1]).numpy()"
   ]
  },
  {
   "cell_type": "markdown",
   "id": "b5811113",
   "metadata": {},
   "source": [
    "The expected class is 5 but the network is not trained yet, so prediction is off:"
   ]
  },
  {
   "cell_type": "code",
   "execution_count": 11,
   "id": "5dcc3d67",
   "metadata": {},
   "outputs": [
    {
     "data": {
      "text/plain": [
       "5"
      ]
     },
     "execution_count": 11,
     "metadata": {},
     "output_type": "execute_result"
    }
   ],
   "source": [
    "y_train[0]"
   ]
  },
  {
   "cell_type": "markdown",
   "id": "62252a81",
   "metadata": {},
   "source": [
    "To convert the logits into propabilities, we can use the classical softmax function:"
   ]
  },
  {
   "cell_type": "code",
   "execution_count": 12,
   "id": "1173972c",
   "metadata": {},
   "outputs": [],
   "source": [
    "probabilities = tf.nn.softmax(model(x_train[:1])).numpy()"
   ]
  },
  {
   "cell_type": "markdown",
   "id": "244f995a",
   "metadata": {},
   "source": [
    "The sum of all the probabilities is 1:"
   ]
  },
  {
   "cell_type": "code",
   "execution_count": 13,
   "id": "9ed0003e",
   "metadata": {},
   "outputs": [
    {
     "data": {
      "text/plain": [
       "1.0"
      ]
     },
     "execution_count": 13,
     "metadata": {},
     "output_type": "execute_result"
    }
   ],
   "source": [
    "probabilities.sum()"
   ]
  },
  {
   "cell_type": "markdown",
   "id": "30703c18",
   "metadata": {},
   "source": [
    "We can modify the model to add the softmax function. The tutorial advises against this but we should be fine for this example:"
   ]
  },
  {
   "cell_type": "code",
   "execution_count": 14,
   "id": "64a114e6",
   "metadata": {},
   "outputs": [
    {
     "data": {
      "text/plain": [
       "array([[0.07504595, 0.19123259, 0.07737799, 0.12371388, 0.09496987,\n",
       "        0.08952894, 0.11315511, 0.06363478, 0.06784651, 0.10349445]],\n",
       "      dtype=float32)"
      ]
     },
     "execution_count": 14,
     "metadata": {},
     "output_type": "execute_result"
    }
   ],
   "source": [
    "model = tf.keras.models.Sequential([model, tf.keras.layers.Softmax()])\n",
    "model(x_train[:1]).numpy()"
   ]
  },
  {
   "cell_type": "markdown",
   "id": "cd15b007",
   "metadata": {},
   "source": [
    "An alternative is to use softmax as activation of the last dense layer:"
   ]
  },
  {
   "cell_type": "code",
   "execution_count": 15,
   "id": "142a6776",
   "metadata": {},
   "outputs": [],
   "source": [
    "model = tf.keras.models.Sequential([\n",
    "  tf.keras.layers.Flatten(input_shape=(28, 28)),\n",
    "  tf.keras.layers.Dense(128, activation='relu'),\n",
    "  tf.keras.layers.Dropout(0.2),\n",
    "  tf.keras.layers.Dense(10, activation='softmax')\n",
    "])"
   ]
  },
  {
   "cell_type": "code",
   "execution_count": 16,
   "id": "150e752f",
   "metadata": {},
   "outputs": [
    {
     "data": {
      "text/plain": [
       "array([[0.08309083, 0.14705843, 0.07757425, 0.13568453, 0.09059241,\n",
       "        0.1360806 , 0.14437878, 0.0563494 , 0.05097573, 0.07821511]],\n",
       "      dtype=float32)"
      ]
     },
     "execution_count": 16,
     "metadata": {},
     "output_type": "execute_result"
    }
   ],
   "source": [
    "model(x_train[:1]).numpy()"
   ]
  },
  {
   "cell_type": "markdown",
   "id": "b39db78e",
   "metadata": {},
   "source": [
    "Ok, now we need to fit the model. As the targets are provided as integer values (and not one-hot representation), we can use the the sparse cross entropy loss. We tell the loss function that the prediction is a probability (because we have used the softmax activation):"
   ]
  },
  {
   "cell_type": "code",
   "execution_count": 17,
   "id": "2e2477da",
   "metadata": {},
   "outputs": [],
   "source": [
    "loss_fn = tf.keras.losses.SparseCategoricalCrossentropy(from_logits=False)"
   ]
  },
  {
   "cell_type": "markdown",
   "id": "347b8573",
   "metadata": {},
   "source": [
    "There is now a compilation step to associate the model with a loss function and an optimizer. We also select the accuracy as the main metric to be shown during the training phase:"
   ]
  },
  {
   "cell_type": "code",
   "execution_count": 18,
   "id": "44ce2fed",
   "metadata": {},
   "outputs": [],
   "source": [
    "model.compile(optimizer=\"adam\", loss=loss_fn, metrics=['accuracy'])"
   ]
  },
  {
   "cell_type": "markdown",
   "id": "83071a65",
   "metadata": {},
   "source": [
    "And now we can fit the model by step of 5 epochs. You can run the following line so an accuracy of around 0.98 is reached:"
   ]
  },
  {
   "cell_type": "code",
   "execution_count": 43,
   "id": "b502587f",
   "metadata": {},
   "outputs": [
    {
     "name": "stdout",
     "output_type": "stream",
     "text": [
      "Epoch 1/5\n",
      "1875/1875 [==============================] - 1s 530us/step - loss: 0.0321 - accuracy: 0.9894\n",
      "Epoch 2/5\n",
      "1875/1875 [==============================] - 1s 522us/step - loss: 0.0318 - accuracy: 0.9887\n",
      "Epoch 3/5\n",
      "1875/1875 [==============================] - 1s 517us/step - loss: 0.0309 - accuracy: 0.9895\n",
      "Epoch 4/5\n",
      "1875/1875 [==============================] - 1s 516us/step - loss: 0.0290 - accuracy: 0.9905\n",
      "Epoch 5/5\n",
      "1875/1875 [==============================] - 1s 514us/step - loss: 0.0261 - accuracy: 0.9912\n"
     ]
    }
   ],
   "source": [
    "model.fit(x_train, y_train, epochs=5);"
   ]
  },
  {
   "cell_type": "markdown",
   "id": "319fa8f8",
   "metadata": {},
   "source": [
    "The number displayed below epoch (1875/1875) is the batch number. This means that by default a mini batch size of 32 is taken."
   ]
  },
  {
   "cell_type": "markdown",
   "id": "ed335d55",
   "metadata": {},
   "source": [
    "Now we can evaluate the model on the testing dataset:"
   ]
  },
  {
   "cell_type": "code",
   "execution_count": 44,
   "id": "65185301",
   "metadata": {},
   "outputs": [
    {
     "name": "stdout",
     "output_type": "stream",
     "text": [
      "313/313 - 0s - loss: 0.0883 - accuracy: 0.9802\n"
     ]
    },
    {
     "data": {
      "text/plain": [
       "[0.08829722553491592, 0.9801999926567078]"
      ]
     },
     "execution_count": 44,
     "metadata": {},
     "output_type": "execute_result"
    }
   ],
   "source": [
    "model.evaluate(x_test, y_test, verbose=2)"
   ]
  },
  {
   "cell_type": "markdown",
   "id": "e59069a2",
   "metadata": {},
   "source": [
    "The first returned value is the loss value and the second one is the accuracy because it's the metrics we have seletected.\n",
    "\n",
    "The function below enables to visualize the hand-written digit with the probabilities calculated by the network for each class. We then sample a few digits from the testing dataset to check the network predictions:"
   ]
  },
  {
   "cell_type": "code",
   "execution_count": 47,
   "id": "0f1a498e",
   "metadata": {},
   "outputs": [],
   "source": [
    "def plot(model, x):\n",
    "    y = model(x.reshape(1, -1)).numpy()\n",
    "    fig = plt.figure(figsize=(8, 4), constrained_layout=True)\n",
    "    gs = gridspec.GridSpec(1, 2, figure=fig)\n",
    "    ax = fig.add_subplot(gs[0, 1])\n",
    "    ax.barh(range(10), y.reshape(10), tick_label=range(10))\n",
    "    ax.invert_yaxis()\n",
    "    ax = fig.add_subplot(gs[0, 0])\n",
    "    ax.imshow(x, cmap=\"gray\")"
   ]
  },
  {
   "cell_type": "code",
   "execution_count": 48,
   "id": "9a16dabf",
   "metadata": {
    "scrolled": false
   },
   "outputs": [
    {
     "data": {
      "image/png": "[encoded data removed]",
      "text/plain": [
       "<Figure size 576x288 with 2 Axes>"
      ]
     },
     "metadata": {
      "needs_background": "light"
     },
     "output_type": "display_data"
    },
    {
     "data": {
      "image/png": "[encoded data removed]",
      "text/plain": [
       "<Figure size 576x288 with 2 Axes>"
      ]
     },
     "metadata": {
      "needs_background": "light"
     },
     "output_type": "display_data"
    },
    {
     "data": {
      "image/png": "[encoded data removed]",
      "text/plain": [
       "<Figure size 576x288 with 2 Axes>"
      ]
     },
     "metadata": {
      "needs_background": "light"
     },
     "output_type": "display_data"
    },
    {
     "data": {
      "image/png": "[encoded data removed]",
      "text/plain": [
       "<Figure size 576x288 with 2 Axes>"
      ]
     },
     "metadata": {
      "needs_background": "light"
     },
     "output_type": "display_data"
    },
    {
     "data": {
      "image/png": "[encoded data removed]",
      "text/plain": [
       "<Figure size 576x288 with 2 Axes>"
      ]
     },
     "metadata": {
      "needs_background": "light"
     },
     "output_type": "display_data"
    },
    {
     "data": {
      "image/png": "[encoded data removed]",
      "text/plain": [
       "<Figure size 576x288 with 2 Axes>"
      ]
     },
     "metadata": {
      "needs_background": "light"
     },
     "output_type": "display_data"
    },
    {
     "data": {
      "image/png": "[encoded data removed]",
      "text/plain": [
       "<Figure size 576x288 with 2 Axes>"
      ]
     },
     "metadata": {
      "needs_background": "light"
     },
     "output_type": "display_data"
    },
    {
     "data": {
      "image/png": "[encoded data removed]",
      "text/plain": [
       "<Figure size 576x288 with 2 Axes>"
      ]
     },
     "metadata": {
      "needs_background": "light"
     },
     "output_type": "display_data"
    },
    {
     "data": {
      "image/png": "[encoded data removed]",
      "text/plain": [
       "<Figure size 576x288 with 2 Axes>"
      ]
     },
     "metadata": {
      "needs_background": "light"
     },
     "output_type": "display_data"
    },
    {
     "data": {
      "image/png": "[encoded data removed]",
      "text/plain": [
       "<Figure size 576x288 with 2 Axes>"
      ]
     },
     "metadata": {
      "needs_background": "light"
     },
     "output_type": "display_data"
    }
   ],
   "source": [
    "for i in range(10):\n",
    "    j = np.random.randint(0, 10000)\n",
    "    plot(model, x_test[j])"
   ]
  },
  {
   "cell_type": "code",
   "execution_count": null,
   "id": "f35ad48a",
   "metadata": {},
   "outputs": [],
   "source": []
  }
 ],
 "metadata": {
  "kernelspec": {
   "display_name": "Python 3 (ipykernel)",
   "language": "python",
   "name": "python3"
  },
  "language_info": {
   "codemirror_mode": {
    "name": "ipython",
    "version": 3
   },
   "file_extension": ".py",
   "mimetype": "text/x-python",
   "name": "python",
   "nbconvert_exporter": "python",
   "pygments_lexer": "ipython3",
   "version": "3.8.11"
  }
 },
 "nbformat": 4,
 "nbformat_minor": 5
}
